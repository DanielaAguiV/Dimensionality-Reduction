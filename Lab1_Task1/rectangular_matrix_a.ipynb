{
 "cells": [
  {
   "cell_type": "code",
   "execution_count": 1,
   "metadata": {},
   "outputs": [],
   "source": [
    "import numpy as np\n",
    "from matrix.rectangular_matrix import RandomMatrix as RM"
   ]
  },
  {
   "cell_type": "code",
   "execution_count": 2,
   "metadata": {},
   "outputs": [
    {
     "name": "stdout",
     "output_type": "stream",
     "text": [
      "A random matrix  of size  2x2 has been generated\n",
      "With components \n",
      " [[30 35]\n",
      " [62 32]]\n",
      "The rank is 2\n",
      "The trace is 62\n",
      "The inverse matrix is \n",
      " [[-0.02644628  0.02892562]\n",
      " [ 0.05123967 -0.02479339]]\n"
     ]
    }
   ],
   "source": [
    "example_a = RM(2,2)\n",
    "print( example_a)\n",
    "print(f'With components \\n {example_a.matrix}')\n",
    "print(f'The rank is {example_a.rank()}')\n",
    "print(f'The trace is {example_a.trace()}')\n",
    "print(f'The inverse matrix is \\n {example_a.inverse()}')"
   ]
  },
  {
   "cell_type": "code",
   "execution_count": 3,
   "metadata": {},
   "outputs": [
    {
     "data": {
      "text/plain": [
       "array([[30, 62],\n",
       "       [35, 32]])"
      ]
     },
     "execution_count": 3,
     "metadata": {},
     "output_type": "execute_result"
    }
   ],
   "source": [
    "example_a.transpose()"
   ]
  },
  {
   "cell_type": "code",
   "execution_count": 5,
   "metadata": {},
   "outputs": [
    {
     "data": {
      "text/plain": [
       "(array([-1208.8855336,  3132.8855336]),\n",
       " array([[-0.7171331 , -0.69693623],\n",
       "        [ 0.69693623, -0.7171331 ]]))"
      ]
     },
     "execution_count": 5,
     "metadata": {},
     "output_type": "execute_result"
    }
   ],
   "source": [
    "np.linalg.eig(example_a.matrix*example_a.transpose())"
   ]
  },
  {
   "cell_type": "code",
   "execution_count": 7,
   "metadata": {},
   "outputs": [
    {
     "data": {
      "text/plain": [
       "(array([-1208.8855336,  3132.8855336]),\n",
       " array([[-0.7171331 , -0.69693623],\n",
       "        [ 0.69693623, -0.7171331 ]]))"
      ]
     },
     "execution_count": 7,
     "metadata": {},
     "output_type": "execute_result"
    }
   ],
   "source": [
    "np.linalg.eig(example_a.transpose()*example_a.matrix)"
   ]
  },
  {
   "cell_type": "code",
   "execution_count": null,
   "metadata": {},
   "outputs": [],
   "source": []
  }
 ],
 "metadata": {
  "kernelspec": {
   "display_name": "Python 3",
   "language": "python",
   "name": "python3"
  },
  "language_info": {
   "codemirror_mode": {
    "name": "ipython",
    "version": 3
   },
   "file_extension": ".py",
   "mimetype": "text/x-python",
   "name": "python",
   "nbconvert_exporter": "python",
   "pygments_lexer": "ipython3",
   "version": "3.9.13"
  },
  "orig_nbformat": 4
 },
 "nbformat": 4,
 "nbformat_minor": 2
}
